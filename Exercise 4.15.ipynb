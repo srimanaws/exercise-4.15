{
 "cells": [
  {
   "cell_type": "code",
   "execution_count": null,
   "id": "338dce6f-c75f-4b90-90d8-59a1904c7592",
   "metadata": {},
   "outputs": [
    {
     "name": "stdin",
     "output_type": "stream",
     "text": [
      "What’s 7 times 8?  56\n"
     ]
    },
    {
     "name": "stdout",
     "output_type": "stream",
     "text": [
      "Keep up the good work!\n"
     ]
    },
    {
     "name": "stdin",
     "output_type": "stream",
     "text": [
      "Want to solve another problem? (yes/no):  yes\n",
      "What’s 5 times 6?  30\n"
     ]
    },
    {
     "name": "stdout",
     "output_type": "stream",
     "text": [
      "Very good!\n"
     ]
    },
    {
     "name": "stdin",
     "output_type": "stream",
     "text": [
      "Want to solve another problem? (yes/no):  yes\n",
      "What’s 4 times 2?  8\n"
     ]
    },
    {
     "name": "stdout",
     "output_type": "stream",
     "text": [
      "Nice work!\n"
     ]
    }
   ],
   "source": [
    "# Exercise: Computer-Assisted Instruction (CAI) - Reducing Student Fatigue\n",
    "# Author: Sriman\n",
    "\n",
    "import random\n",
    "\n",
    "def generate_multiplication_question():\n",
    "    # Generate two random one-digit numbers\n",
    "    num1 = random.randint(1, 9)\n",
    "    num2 = random.randint(1, 9)\n",
    "    return num1, num2\n",
    "\n",
    "def get_feedback(correct=True):\n",
    "    if correct:\n",
    "        responses = ['Very good!', 'Nice work!', 'Keep up the good work!']\n",
    "    else:\n",
    "        responses = ['Nope, try again.', 'Not quite, give it another shot!', 'Almost there, keep going!']\n",
    "    \n",
    "    return random.choice(responses)\n",
    "\n",
    "def main():\n",
    "    while True:\n",
    "        # Get a new multiplication question\n",
    "        num1, num2 = generate_multiplication_question()\n",
    "        \n",
    "        while True:\n",
    "            try:\n",
    "                # Ask the user the multiplication question\n",
    "                answer = int(input(f\"What’s {num1} times {num2}? \"))\n",
    "                \n",
    "                # Check if the answer is correct\n",
    "                if answer == num1 * num2:\n",
    "                    print(get_feedback(correct=True))\n",
    "                    break\n",
    "                else:\n",
    "                    print(get_feedback(correct=False))\n",
    "            \n",
    "            except ValueError:\n",
    "                print(\"Oops, that doesn’t look like a number. Can you try again?\")\n",
    "        \n",
    "        # Check if the user wants to continue\n",
    "        continue_learning = input(\"Want to solve another problem? (yes/no): \").strip().lower()\n",
    "        if continue_learning != 'yes':\n",
    "            print(\"Great job today! Keep practicing, and I'll see you next time!\")\n",
    "            break\n",
    "\n",
    "# Start the CAI program\n",
    "main()\n"
   ]
  },
  {
   "cell_type": "code",
   "execution_count": null,
   "id": "44016ba5-afe9-46b1-82f6-c446bbfc86fb",
   "metadata": {},
   "outputs": [],
   "source": []
  }
 ],
 "metadata": {
  "kernelspec": {
   "display_name": "Python 3 (ipykernel)",
   "language": "python",
   "name": "python3"
  },
  "language_info": {
   "codemirror_mode": {
    "name": "ipython",
    "version": 3
   },
   "file_extension": ".py",
   "mimetype": "text/x-python",
   "name": "python",
   "nbconvert_exporter": "python",
   "pygments_lexer": "ipython3",
   "version": "3.12.4"
  }
 },
 "nbformat": 4,
 "nbformat_minor": 5
}
